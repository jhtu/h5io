{
 "cells": [
  {
   "cell_type": "markdown",
   "metadata": {},
   "source": [
    "# Tutorial\n",
    "\n",
    "The following examples demonstrate how to use the `h5io` module to interact with HDF5 files quickly and easily.\n",
    "\n",
    "## Saving data\n",
    "First, we create some test data to save to disk:"
   ]
  },
  {
   "cell_type": "code",
   "execution_count": null,
   "metadata": {},
   "outputs": [],
   "source": [
    "import numpy as np\n",
    "x = np.random.random((10, 20))"
   ]
  },
  {
   "cell_type": "markdown",
   "metadata": {},
   "source": [
    "We can save the data using the `save_dataset` function:"
   ]
  },
  {
   "cell_type": "code",
   "execution_count": null,
   "metadata": {},
   "outputs": [],
   "source": [
    "import h5io\n",
    "h5io.save_dataset('test.h5', x)"
   ]
  },
  {
   "cell_type": "markdown",
   "metadata": {},
   "source": [
    "By default, this saves the data as a dataset called *data*.\n",
    "We can check this by using the `info` function:"
   ]
  },
  {
   "cell_type": "code",
   "execution_count": null,
   "metadata": {},
   "outputs": [],
   "source": [
    "h5io.info('test.h5')"
   ]
  },
  {
   "cell_type": "markdown",
   "metadata": {},
   "source": [
    "We see that the file ``test.h5`` contains a single dataset called *data*.\n",
    "If we want to save the dataset with a custom name, we can use the ``name`` parameter:"
   ]
  },
  {
   "cell_type": "code",
   "execution_count": null,
   "metadata": {},
   "outputs": [],
   "source": [
    "h5io.save_dataset('test.h5', x, name='x')\n",
    "h5io.info('test.h5')"
   ]
  },
  {
   "cell_type": "markdown",
   "metadata": {},
   "source": [
    "Now the dataset is called *x*.\n",
    "\n",
    "Note that by default, `save_dataset` overwrites files.\n",
    "To add a dataset to the file, we use `append_dataset`, which is equivalent to calling`save_dataset` with ``overwrite=False``:"
   ]
  },
  {
   "cell_type": "code",
   "execution_count": null,
   "metadata": {},
   "outputs": [],
   "source": [
    "y = x + 1.\n",
    "h5io.append_dataset('test.h5', y, name='y')\n",
    "h5io.info('test.h5')"
   ]
  },
  {
   "cell_type": "markdown",
   "metadata": {},
   "source": [
    "Since one of the advantages of HDF5 is that it is a self-describing file format, ``h5io`` provides an easy way to add descriptions when saving datasets.\n",
    "To do so, simply use the ``description`` parameter (available for both `save_dataset` and `append_dataset`):"
   ]
  },
  {
   "cell_type": "code",
   "execution_count": null,
   "metadata": {},
   "outputs": [],
   "source": [
    "h5io.save_dataset('test.h5', x, name='x', description='x data')\n",
    "h5io.append_dataset('test.h5', x, name='y', description='y data')"
   ]
  },
  {
   "cell_type": "markdown",
   "metadata": {},
   "source": [
    "We can check the value of the dataset descriptions by using the `info` function with the appropriate ``name`` value:"
   ]
  },
  {
   "cell_type": "code",
   "execution_count": null,
   "metadata": {},
   "outputs": [],
   "source": [
    "h5io.info('test.h5', name='x')\n",
    "h5io.info('test.h5', name='y')"
   ]
  },
  {
   "cell_type": "markdown",
   "metadata": {},
   "source": [
    "We can also save data in groups by using the ``name`` parameter:"
   ]
  },
  {
   "cell_type": "code",
   "execution_count": null,
   "metadata": {},
   "outputs": [],
   "source": [
    "h5io.append_dataset('test.h5', x, name='group/x')\n",
    "h5io.append_dataset('test.h5', y, name='group/y')\n",
    "h5io.info('test.h5')"
   ]
  },
  {
   "cell_type": "markdown",
   "metadata": {},
   "source": [
    "Now we see that ``test.h5`` contains two datasets (*x* and *y*) and a group (*group*) at the root level.\n",
    "We can get info on the contents of the group using the ``info`` function:"
   ]
  },
  {
   "cell_type": "code",
   "execution_count": null,
   "metadata": {},
   "outputs": [],
   "source": [
    "h5io.info('test.h5', name='group')"
   ]
  },
  {
   "cell_type": "markdown",
   "metadata": {},
   "source": [
    "## Loading data\n",
    "\n",
    "Loading data is simple using :meth:`h5io.h5io.load_datast`:"
   ]
  },
  {
   "cell_type": "code",
   "execution_count": null,
   "metadata": {},
   "outputs": [],
   "source": [
    "x_load = h5io.load_dataset('test.h5', 'x')\n",
    "print('Max diff b/w orig and loaded x: {:.2e}'.format(np.abs(x - x_load).max()))\n",
    "y_load = h5io.load_dataset('test.h5', 'group/y')\n",
    "print('Max diff b/w orig and loaded y: {:.2e}'.format(np.abs(y - y_load).max()))"
   ]
  },
  {
   "cell_type": "markdown",
   "metadata": {},
   "source": [
    "## Querying files\n",
    "\n",
    "Sometimes it is useful to query a dataset and look at its contents.\n",
    "As we have seen above, we can use `info` to get info on groups and datasets.  If we set ``return_info=True``, then we can also return a dictionary of the information:"
   ]
  },
  {
   "cell_type": "code",
   "execution_count": null,
   "metadata": {},
   "outputs": [],
   "source": [
    "print('FILE/ROOT INFO:')\n",
    "h5io.info('test.h5')\n",
    "print('\\nGROUP INFO:')\n",
    "h5io.info('test.h5', name='group')\n",
    "print('\\nDATASET INFO:')\n",
    "info = h5io.info('test.h5', name='group/x', return_info=True)\n",
    "print('\\nDATASET INFO DICT:', info)"
   ]
  },
  {
   "cell_type": "markdown",
   "metadata": {},
   "source": [
    "We can also check for the existence of a particular dataset or group using `exists`:"
   ]
  },
  {
   "cell_type": "code",
   "execution_count": null,
   "metadata": {},
   "outputs": [],
   "source": [
    "print('Dataset x exists:', h5io.exists('test.h5', 'x'))\n",
    "print('Dataset z exists:', h5io.exists('test.h5', 'z'))"
   ]
  },
  {
   "cell_type": "markdown",
   "metadata": {},
   "source": [
    "## Saving attributes\n",
    "\n",
    "As alluded to above, part of what makes HDF5 a self-describing file format is that groups and datasets can have associated attributes.\n",
    "We can use `save_attributes` or `append_attributes` to add attributes to a group or dataset, with the former overwriting any existing attributes and the latter simply adding to them:"
   ]
  },
  {
   "cell_type": "code",
   "execution_count": null,
   "metadata": {},
   "outputs": [],
   "source": [
    "h5io.save_dataset('test.h5', 'x', name='x')\n",
    "print('DATA W/O ATTRIBUTES')\n",
    "h5io.info('test.h5', 'x')\n",
    "print('\\nDATA W/ATTRIBUTES')\n",
    "h5io.save_attributes('test.h5', {'units': 'm/s', 'num_pts': x.size}, name='x')\n",
    "h5io.info('test.h5', 'x')\n",
    "print('\\nDATA W/ADDED ATTRIBUTES')\n",
    "h5io.append_attributes('test.h5', {'color': 'red'}, name='x')\n",
    "h5io.info('test.h5', 'x')"
   ]
  },
  {
   "cell_type": "markdown",
   "metadata": {},
   "source": [
    "## Renaming objects\n",
    "\n",
    "We can easily rename a dataset or group using `rename`:"
   ]
  },
  {
   "cell_type": "code",
   "execution_count": null,
   "metadata": {},
   "outputs": [],
   "source": [
    "print('\\nORIGINAL DATA')\n",
    "h5io.info('test.h5')\n",
    "h5io.info('test.h5', 'x')\n",
    "print('\\nRENAMED DATA')\n",
    "h5io.rename('test.h5', 'x', 'x_new')\n",
    "h5io.info('test.h5')\n",
    "h5io.info('test.h5', 'x_new')"
   ]
  },
  {
   "cell_type": "markdown",
   "metadata": {},
   "source": [
    "## Working with NPZ files\n",
    "\n",
    "Sometimes when collaborating, it is useful to have code with as few dependencies as possible.\n",
    "To help with that ``h5io`` offers methods for converting HDF5 files to and from NPZ (numpy archive) formats.\n",
    "For instance, the following code saves data to HDF5, then converts the entire contents of that file to NPZ using `to_npz`:"
   ]
  },
  {
   "cell_type": "code",
   "execution_count": null,
   "metadata": {},
   "outputs": [],
   "source": [
    "h5io.save_dataset('test.h5', np.random.random((2, 5)), name='group/x1')\n",
    "h5io.append_dataset('test.h5', np.random.random((2, 5)), name='group/x2')\n",
    "h5io.append_dataset('test.h5', np.random.random((3, 5)), name='y')\n",
    "h5io.append_dataset('test.h5', np.random.random((4, 5)), name='z')\n",
    "h5io.to_npz('test.h5', 'test_all.npz')"
   ]
  },
  {
   "cell_type": "markdown",
   "metadata": {},
   "source": [
    "We can also save single groups/datasets, or lists of groups/datasets:"
   ]
  },
  {
   "cell_type": "code",
   "execution_count": null,
   "metadata": {},
   "outputs": [],
   "source": [
    "h5io.to_npz('test.h5', 'test_z.npz', name='z')\n",
    "h5io.to_npz('test.h5', 'test_yz.npz', name=['y', 'z'])\n",
    "h5io.to_npz('test.h5', 'test_group.npz', name='group')"
   ]
  },
  {
   "cell_type": "markdown",
   "metadata": {},
   "source": [
    "To load data in an NPZ file, we can use the following syntax, noting that since NPZ files don't support groups, group/dataset paths have been altered by replacing slashes with underscores:"
   ]
  },
  {
   "cell_type": "code",
   "execution_count": null,
   "metadata": {},
   "outputs": [],
   "source": [
    "with np.load('test_all.npz', 'r') as data:\n",
    "    print('NPZ contents:', data._files)\n",
    "    x1 = data['group_x1']\n",
    "    x2 = data['group_x2']\n",
    "    y = data['y']\n",
    "    z = data['z']\n",
    "with np.load('test_yz.npz', 'r') as data:\n",
    "    print('NPZ contents:', data._files)\n",
    "    y = data['y']\n",
    "    z = data['z']\n",
    "with np.load('test_group.npz', 'r') as data:\n",
    "    print('NPZ contents:', data._files)\n",
    "    x1 = data['x1']\n",
    "    x2 = data['x2']"
   ]
  },
  {
   "cell_type": "markdown",
   "metadata": {},
   "source": [
    "When converting an NPZ file to HDF5, array names will be preserved:"
   ]
  },
  {
   "cell_type": "code",
   "execution_count": null,
   "metadata": {},
   "outputs": [],
   "source": [
    "np.savez_compressed(\n",
    "      'test.npz',\n",
    "      x_npz=np.random.random((5, 2)),\n",
    "      y_npz=np.random.random((6, 7)))\n",
    "h5io.from_npz('test.npz', 'test.h5')\n",
    "h5io.info('test.h5')"
   ]
  }
 ],
 "metadata": {
  "kernelspec": {
   "display_name": "Python 3",
   "language": "python",
   "name": "python3"
  },
  "language_info": {
   "codemirror_mode": {
    "name": "ipython",
    "version": 3
   },
   "file_extension": ".py",
   "mimetype": "text/x-python",
   "name": "python",
   "nbconvert_exporter": "python",
   "pygments_lexer": "ipython3",
   "version": "3.6.10"
  }
 },
 "nbformat": 4,
 "nbformat_minor": 4
}
